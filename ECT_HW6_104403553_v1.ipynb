{
  "nbformat": 4,
  "nbformat_minor": 0,
  "metadata": {
    "colab": {
      "name": "ECT_HW6_104403553_v1.ipynb",
      "version": "0.3.2",
      "provenance": [],
      "toc_visible": true
    },
    "kernelspec": {
      "display_name": "Python 3",
      "language": "python",
      "name": "python3"
    }
  },
  "cells": [
    {
      "metadata": {
        "id": "IrtmM8nthyvK",
        "colab_type": "text"
      },
      "cell_type": "markdown",
      "source": [
        "## import necessary libraries"
      ]
    },
    {
      "metadata": {
        "id": "2v3WdFaxhcY_",
        "colab_type": "code",
        "colab": {}
      },
      "cell_type": "code",
      "source": [
        "import pandas as pd\n",
        "import numpy as np\n",
        "from sklearn import preprocessing, metrics\n",
        "from sklearn.model_selection import train_test_split"
      ],
      "execution_count": 0,
      "outputs": []
    },
    {
      "metadata": {
        "id": "lYsYEX8KiA4W",
        "colab_type": "text"
      },
      "cell_type": "markdown",
      "source": [
        "## 讀檔 Breast Cancer.csv"
      ]
    },
    {
      "metadata": {
        "id": "f6QhklXrhcZE",
        "colab_type": "code",
        "colab": {
          "base_uri": "https://localhost:8080/",
          "height": 663
        },
        "outputId": "37c4d690-48d5-4899-b55c-6558e735f671"
      },
      "cell_type": "code",
      "source": [
        "df = pd.read_csv('BreastCancer.csv')\n",
        "df.info()"
      ],
      "execution_count": 2,
      "outputs": [
        {
          "output_type": "stream",
          "text": [
            "<class 'pandas.core.frame.DataFrame'>\n",
            "RangeIndex: 569 entries, 0 to 568\n",
            "Data columns (total 33 columns):\n",
            "id                         569 non-null int64\n",
            "diagnosis                  569 non-null object\n",
            "radius_mean                569 non-null float64\n",
            "texture_mean               569 non-null float64\n",
            "perimeter_mean             569 non-null float64\n",
            "area_mean                  569 non-null float64\n",
            "smoothness_mean            569 non-null float64\n",
            "compactness_mean           569 non-null float64\n",
            "concavity_mean             569 non-null float64\n",
            "concave points_mean        569 non-null float64\n",
            "symmetry_mean              569 non-null float64\n",
            "fractal_dimension_mean     569 non-null float64\n",
            "radius_se                  569 non-null float64\n",
            "texture_se                 569 non-null float64\n",
            "perimeter_se               569 non-null float64\n",
            "area_se                    569 non-null float64\n",
            "smoothness_se              569 non-null float64\n",
            "compactness_se             569 non-null float64\n",
            "concavity_se               569 non-null float64\n",
            "concave points_se          569 non-null float64\n",
            "symmetry_se                569 non-null float64\n",
            "fractal_dimension_se       569 non-null float64\n",
            "radius_worst               569 non-null float64\n",
            "texture_worst              569 non-null float64\n",
            "perimeter_worst            569 non-null float64\n",
            "area_worst                 569 non-null float64\n",
            "smoothness_worst           569 non-null float64\n",
            "compactness_worst          569 non-null float64\n",
            "concavity_worst            569 non-null float64\n",
            "concave points_worst       569 non-null float64\n",
            "symmetry_worst             569 non-null float64\n",
            "fractal_dimension_worst    569 non-null float64\n",
            "Unnamed: 32                0 non-null float64\n",
            "dtypes: float64(31), int64(1), object(1)\n",
            "memory usage: 146.8+ KB\n"
          ],
          "name": "stdout"
        }
      ]
    },
    {
      "metadata": {
        "id": "vWhTjyoliKRf",
        "colab_type": "text"
      },
      "cell_type": "markdown",
      "source": [
        "## (a)切分 feature= radius_mean, area_mean label = diagnosis"
      ]
    },
    {
      "metadata": {
        "id": "v03Aa1IhhcZK",
        "colab_type": "code",
        "colab": {}
      },
      "cell_type": "code",
      "source": [
        "x = df.loc[:,[\"radius_mean\",\"area_mean\"]]\n",
        "y = df.loc[:,['diagnosis']]"
      ],
      "execution_count": 0,
      "outputs": []
    },
    {
      "metadata": {
        "id": "4WQo5EMbiugp",
        "colab_type": "text"
      },
      "cell_type": "markdown",
      "source": [
        "##(b)切分  資料及訓練集"
      ]
    },
    {
      "metadata": {
        "id": "nL9ZqkZ2hcZN",
        "colab_type": "code",
        "colab": {}
      },
      "cell_type": "code",
      "source": [
        "train_X, test_X, train_y, test_y = train_test_split(x, y, test_size = 0.34, random_state = 5)"
      ],
      "execution_count": 0,
      "outputs": []
    },
    {
      "metadata": {
        "id": "H7XSRYtIjPIx",
        "colab_type": "text"
      },
      "cell_type": "markdown",
      "source": [
        "## (c)做個knn吧"
      ]
    },
    {
      "metadata": {
        "id": "cvlucHWthcZR",
        "colab_type": "code",
        "colab": {
          "base_uri": "https://localhost:8080/",
          "height": 71
        },
        "outputId": "97b90d08-7877-484e-d3e1-bd572f646a8a"
      },
      "cell_type": "code",
      "source": [
        "from sklearn.neighbors import KNeighborsClassifier as KNN\n",
        "\n",
        "clf = KNN(n_neighbors = 6).fit(train_X ,train_y)"
      ],
      "execution_count": 5,
      "outputs": [
        {
          "output_type": "stream",
          "text": [
            "/usr/local/lib/python3.6/dist-packages/ipykernel_launcher.py:3: DataConversionWarning: A column-vector y was passed when a 1d array was expected. Please change the shape of y to (n_samples, ), for example using ravel().\n",
            "  This is separate from the ipykernel package so we can avoid doing imports until\n"
          ],
          "name": "stderr"
        }
      ]
    },
    {
      "metadata": {
        "id": "hhvuEDdajYRM",
        "colab_type": "text"
      },
      "cell_type": "markdown",
      "source": [
        "## (d)算個精準度 0.91好像還不錯欸"
      ]
    },
    {
      "metadata": {
        "id": "_IWbI5dxhcZX",
        "colab_type": "code",
        "colab": {
          "base_uri": "https://localhost:8080/",
          "height": 34
        },
        "outputId": "fe3675ea-b260-48dd-f95b-6619d57edbf5"
      },
      "cell_type": "code",
      "source": [
        "predicted_results = clf.predict(test_X)\n",
        "accuracy_test = metrics.accuracy_score(predicted_results, test_y)\n",
        "print('accuracy: ',accuracy_test)"
      ],
      "execution_count": 6,
      "outputs": [
        {
          "output_type": "stream",
          "text": [
            "accuracy:  0.9175257731958762\n"
          ],
          "name": "stdout"
        }
      ]
    },
    {
      "metadata": {
        "id": "Tnq6XFUgjexV",
        "colab_type": "text"
      },
      "cell_type": "markdown",
      "source": [
        "## (e)用matplotlib \n",
        "x = radius_mean<br>\n",
        "y = are_mean<br>\n",
        " c= label = y['diagnosis']"
      ]
    },
    {
      "metadata": {
        "id": "v7Fj_5qMhcZb",
        "colab_type": "code",
        "colab": {
          "base_uri": "https://localhost:8080/",
          "height": 1127
        },
        "outputId": "1c1742ad-d370-40e6-9a88-342f18a35fec"
      },
      "cell_type": "code",
      "source": [
        "import matplotlib\n",
        "import matplotlib.pyplot as plt\n",
        "\n",
        "matplotlib.rc('axes',edgecolor='w')\n",
        "title_1 = plt.title('KNN without removing outliers')\n",
        "plt.setp(title_1)\n",
        "#title_1.setcolor(\"white\")\n",
        "#plt.tick_params(axis='x', colors='white')\n",
        "#plt.tick_params(axis='y', colors='white')\n",
        "#plt.ylabel.label.set_color(\"red\")\n",
        "label_x = plt.xlabel(\"radius_mean\")\n",
        "#label_x.set_color(\"white\")\n",
        "\n",
        "label_y = plt.ylabel(\"area_mean\")\n",
        "#label_y.set_color(\"white\")\n",
        "\n",
        "plt.scatter(x['radius_mean'],x['area_mean'], c = y['diagnosis'], alpha = 0.5, edgecolor= 'w')\n",
        "\n",
        "#plt.xlabel('radius_mean')\n",
        "#plt.ylabel('area_mean')\n",
        "plt.show()"
      ],
      "execution_count": 7,
      "outputs": [
        {
          "output_type": "stream",
          "text": [
            "  agg_filter: a filter function, which takes a (m, n, 3) float array and a dpi value, and returns a (m, n, 3) array \n",
            "  alpha: float\n",
            "  animated: bool\n",
            "  backgroundcolor: color\n",
            "  bbox: dict with properties for `.patches.FancyBboxPatch`\n",
            "  clip_box: `matplotlib.transforms.Bbox`\n",
            "  clip_on: bool\n",
            "  clip_path: { (`.path.Path`, `.transforms.Transform`), `.patches.Patch`, None } \n",
            "  color: color\n",
            "  contains: callable\n",
            "  figure: `.Figure`\n",
            "  fontfamily: {FONTNAME, 'serif', 'sans-serif', 'cursive', 'fantasy', 'monospace'}\n",
            "  fontname: {FONTNAME, 'serif', 'sans-serif', 'cursive', 'fantasy', 'monospace'}\n",
            "  fontproperties: `.font_manager.FontProperties`\n",
            "  fontsize: {size in points, 'xx-small', 'x-small', 'small', 'medium', 'large', 'x-large', 'xx-large'}\n",
            "  fontstretch: {a numeric value in range 0-1000, 'ultra-condensed', 'extra-condensed', 'condensed', 'semi-condensed', 'normal', 'semi-expanded', 'expanded', 'extra-expanded', 'ultra-expanded'}\n",
            "  fontstyle: {'normal', 'italic', 'oblique'}\n",
            "  fontvariant: {'normal', 'small-caps'}\n",
            "  fontweight: {a numeric value in range 0-1000, 'ultralight', 'light', 'normal', 'regular', 'book', 'medium', 'roman', 'semibold', 'demibold', 'demi', 'bold', 'heavy', 'extra bold', 'black'}\n",
            "  gid: str\n",
            "  horizontalalignment: {'center', 'right', 'left'}\n",
            "  in_layout: bool\n",
            "  label: object\n",
            "  linespacing: float (multiple of font size)\n",
            "  multialignment: {'left', 'right', 'center'}\n",
            "  path_effects: `.AbstractPathEffect`\n",
            "  picker: None or bool or float or callable\n",
            "  position: (float, float)\n",
            "  rasterized: bool or None\n",
            "  rotation: {angle in degrees, 'vertical', 'horizontal'}\n",
            "  rotation_mode: {None, 'default', 'anchor'}\n",
            "  sketch_params: (scale: float, length: float, randomness: float) \n",
            "  snap: bool or None\n",
            "  text: string or object castable to string (but ``None`` becomes ``''``)\n",
            "  transform: `.Transform`\n",
            "  url: str\n",
            "  usetex: bool or None\n",
            "  verticalalignment: {'center', 'top', 'bottom', 'baseline', 'center_baseline'}\n",
            "  visible: bool\n",
            "  wrap: bool\n",
            "  x: float\n",
            "  y: float\n",
            "  zorder: float\n"
          ],
          "name": "stdout"
        },
        {
          "output_type": "display_data",
          "data": {
            "image/png": "[encoded data removed]",
            "text/plain": [
              "<Figure size 576x396 with 1 Axes>"
            ]
          },
          "metadata": {
            "tags": []
          }
        }
      ]
    },
    {
      "metadata": {
        "id": "C31KfrlzkLvN",
        "colab_type": "text"
      },
      "cell_type": "markdown",
      "source": [
        "## (f) 做一下kmeans"
      ]
    },
    {
      "metadata": {
        "id": "xzSCtc7MhcZg",
        "colab_type": "code",
        "colab": {}
      },
      "cell_type": "code",
      "source": [
        "from sklearn.cluster import KMeans\n",
        "kmeans = KMeans(n_clusters=2)\n",
        "\n"
      ],
      "execution_count": 0,
      "outputs": []
    },
    {
      "metadata": {
        "id": "EFzoVqIGk25-",
        "colab_type": "text"
      },
      "cell_type": "markdown",
      "source": [
        "## (g) 這個時候來點fit_predict，又fit又predict，找出cluster"
      ]
    },
    {
      "metadata": {
        "id": "FvMaBY3rk1XM",
        "colab_type": "code",
        "colab": {}
      },
      "cell_type": "code",
      "source": [
        "kmeans_cluster = kmeans.fit_predict(x)"
      ],
      "execution_count": 0,
      "outputs": []
    },
    {
      "metadata": {
        "id": "x5OnPt7RkVgg",
        "colab_type": "text"
      },
      "cell_type": "markdown",
      "source": [
        "## (h)matplotlib再度出動來畫畫圖，這次來看看cluster的分類畫得如何"
      ]
    },
    {
      "metadata": {
        "id": "P4cp-zAihcZk",
        "colab_type": "code",
        "colab": {
          "base_uri": "https://localhost:8080/",
          "height": 1127
        },
        "outputId": "29dc925f-4033-4b17-cb6f-d29180d9d0f5"
      },
      "cell_type": "code",
      "source": [
        "import matplotlib\n",
        "import matplotlib.pyplot as plt\n",
        "\n",
        "title_2 = plt.title('K-means without removing outliers')\n",
        "plt.setp(title_2)\n",
        "#matplotlib.rc('axes',edgecolor='w')\n",
        "#plt.tick_params(axis='x', colors='white')\n",
        "#plt.tick_params(axis='y', colors='white')\n",
        "#plt.ylabel.label.set_color(\"red\")\n",
        "label_x_2 = plt.xlabel(\"radius_mean\")\n",
        "#label_x_2.set_color(\"white\")\n",
        "\n",
        "label_y_2 = plt.ylabel(\"area_mean\")\n",
        "#label_y_2.set_color(\"white\")\n",
        "\n",
        "plt.scatter(x['radius_mean'],x['area_mean'], c = kmeans_cluster, alpha = 0.5, edgecolor= 'w')\n",
        "\n",
        "\n",
        "plt.show()"
      ],
      "execution_count": 10,
      "outputs": [
        {
          "output_type": "stream",
          "text": [
            "  agg_filter: a filter function, which takes a (m, n, 3) float array and a dpi value, and returns a (m, n, 3) array \n",
            "  alpha: float\n",
            "  animated: bool\n",
            "  backgroundcolor: color\n",
            "  bbox: dict with properties for `.patches.FancyBboxPatch`\n",
            "  clip_box: `matplotlib.transforms.Bbox`\n",
            "  clip_on: bool\n",
            "  clip_path: { (`.path.Path`, `.transforms.Transform`), `.patches.Patch`, None } \n",
            "  color: color\n",
            "  contains: callable\n",
            "  figure: `.Figure`\n",
            "  fontfamily: {FONTNAME, 'serif', 'sans-serif', 'cursive', 'fantasy', 'monospace'}\n",
            "  fontname: {FONTNAME, 'serif', 'sans-serif', 'cursive', 'fantasy', 'monospace'}\n",
            "  fontproperties: `.font_manager.FontProperties`\n",
            "  fontsize: {size in points, 'xx-small', 'x-small', 'small', 'medium', 'large', 'x-large', 'xx-large'}\n",
            "  fontstretch: {a numeric value in range 0-1000, 'ultra-condensed', 'extra-condensed', 'condensed', 'semi-condensed', 'normal', 'semi-expanded', 'expanded', 'extra-expanded', 'ultra-expanded'}\n",
            "  fontstyle: {'normal', 'italic', 'oblique'}\n",
            "  fontvariant: {'normal', 'small-caps'}\n",
            "  fontweight: {a numeric value in range 0-1000, 'ultralight', 'light', 'normal', 'regular', 'book', 'medium', 'roman', 'semibold', 'demibold', 'demi', 'bold', 'heavy', 'extra bold', 'black'}\n",
            "  gid: str\n",
            "  horizontalalignment: {'center', 'right', 'left'}\n",
            "  in_layout: bool\n",
            "  label: object\n",
            "  linespacing: float (multiple of font size)\n",
            "  multialignment: {'left', 'right', 'center'}\n",
            "  path_effects: `.AbstractPathEffect`\n",
            "  picker: None or bool or float or callable\n",
            "  position: (float, float)\n",
            "  rasterized: bool or None\n",
            "  rotation: {angle in degrees, 'vertical', 'horizontal'}\n",
            "  rotation_mode: {None, 'default', 'anchor'}\n",
            "  sketch_params: (scale: float, length: float, randomness: float) \n",
            "  snap: bool or None\n",
            "  text: string or object castable to string (but ``None`` becomes ``''``)\n",
            "  transform: `.Transform`\n",
            "  url: str\n",
            "  usetex: bool or None\n",
            "  verticalalignment: {'center', 'top', 'bottom', 'baseline', 'center_baseline'}\n",
            "  visible: bool\n",
            "  wrap: bool\n",
            "  x: float\n",
            "  y: float\n",
            "  zorder: float\n"
          ],
          "name": "stdout"
        },
        {
          "output_type": "display_data",
          "data": {
            "image/png": "[encoded data removed]",
            "text/plain": [
              "<Figure size 576x396 with 1 Axes>"
            ]
          },
          "metadata": {
            "tags": []
          }
        }
      ]
    },
    {
      "metadata": {
        "id": "3Rgl0na7leY9",
        "colab_type": "text"
      },
      "cell_type": "markdown",
      "source": [
        "## (i)移除比2000大的，就是留下比2000小的意思啦"
      ]
    },
    {
      "metadata": {
        "id": "iv-BeYp-hcZq",
        "colab_type": "code",
        "colab": {}
      },
      "cell_type": "code",
      "source": [
        "# ro = remove outlier\n",
        "df_ro =  df[(df['area_mean']<2000)]\n"
      ],
      "execution_count": 0,
      "outputs": []
    },
    {
      "metadata": {
        "id": "G6FXVweAl0t3",
        "colab_type": "text"
      },
      "cell_type": "markdown",
      "source": [
        "## (h-a) 就是重做一遍a-e的a 重切feature and labels"
      ]
    },
    {
      "metadata": {
        "id": "llT4NnxdhcZt",
        "colab_type": "code",
        "colab": {}
      },
      "cell_type": "code",
      "source": [
        "x_ros = df_ro.loc[:,['radius_mean','area_mean']]\n",
        "y_ros = df_ro.loc[:,['diagnosis']]"
      ],
      "execution_count": 0,
      "outputs": []
    },
    {
      "metadata": {
        "id": "vOYq_klemA3s",
        "colab_type": "text"
      },
      "cell_type": "markdown",
      "source": [
        "## (h-b) 再做一次train test切"
      ]
    },
    {
      "metadata": {
        "id": "cnXULOvshcZw",
        "colab_type": "code",
        "colab": {}
      },
      "cell_type": "code",
      "source": [
        "train_X_ros, test_X_ros, train_y_ros, test_y_ros = train_test_split(x_ros, y_ros, test_size = 0.34, random_state = 5)"
      ],
      "execution_count": 0,
      "outputs": []
    },
    {
      "metadata": {
        "id": "awCd2AHnmHED",
        "colab_type": "text"
      },
      "cell_type": "markdown",
      "source": [
        "## (h-c) 在一次knn喔 這次移除離群值版"
      ]
    },
    {
      "metadata": {
        "id": "VFMPtHuWhcZ0",
        "colab_type": "code",
        "colab": {
          "base_uri": "https://localhost:8080/",
          "height": 71
        },
        "outputId": "31968282-99e6-45e1-c06e-716f3b08d5f1"
      },
      "cell_type": "code",
      "source": [
        "from sklearn.neighbors import KNeighborsClassifier as KNN\n",
        "\n",
        "clf_ros = KNN(n_neighbors = 6).fit(train_X_ros ,train_y_ros)"
      ],
      "execution_count": 14,
      "outputs": [
        {
          "output_type": "stream",
          "text": [
            "/usr/local/lib/python3.6/dist-packages/ipykernel_launcher.py:3: DataConversionWarning: A column-vector y was passed when a 1d array was expected. Please change the shape of y to (n_samples, ), for example using ravel().\n",
            "  This is separate from the ipykernel package so we can avoid doing imports until\n"
          ],
          "name": "stderr"
        }
      ]
    },
    {
      "metadata": {
        "id": "H3S5VRQ2mQRP",
        "colab_type": "text"
      },
      "cell_type": "markdown",
      "source": [
        "## (h-d) 結果一掉之後accuracy居然有掉落\n",
        "somehow覺得我可能有做錯"
      ]
    },
    {
      "metadata": {
        "id": "sa2PEeu8hcZ5",
        "colab_type": "code",
        "colab": {
          "base_uri": "https://localhost:8080/",
          "height": 34
        },
        "outputId": "127dddcc-7bff-44f6-fbb0-2e42e82c24e6"
      },
      "cell_type": "code",
      "source": [
        "predicted_results = clf.predict(test_X_ros)\n",
        "accuracy_test = metrics.accuracy_score(predicted_results, test_y_ros)\n",
        "print('accuracy: ',accuracy_test)"
      ],
      "execution_count": 15,
      "outputs": [
        {
          "output_type": "stream",
          "text": [
            "accuracy:  0.9015544041450777\n"
          ],
          "name": "stdout"
        }
      ]
    },
    {
      "metadata": {
        "id": "1pFivCdmmfH1",
        "colab_type": "text"
      },
      "cell_type": "markdown",
      "source": [
        "## (h-e) 這個圖再次上演，我覺得分類做的沒有之前好"
      ]
    },
    {
      "metadata": {
        "id": "nJVLmOyghcZ_",
        "colab_type": "code",
        "colab": {
          "base_uri": "https://localhost:8080/",
          "height": 1127
        },
        "outputId": "02bd6f2f-83b2-451e-b8bf-af8641c7c45f"
      },
      "cell_type": "code",
      "source": [
        "title_1 = plt.title('KNN with outlier removal')\n",
        "plt.setp(title_1)\n",
        "\n",
        "#plt.tick_params(axis='x', colors='white')\n",
        "#plt.tick_params(axis='y', colors='white')\n",
        "#plt.ylabel.label.set_color(\"red\")\n",
        "label_x_2 = plt.xlabel(\"radius_mean\")\n",
        "#label_x_2.set_color(\"white\")\n",
        "\n",
        "label_y_2 = plt.ylabel(\"area_mean\")\n",
        "#label_y_2.set_color(\"white\")\n",
        "\n",
        "plt.scatter(x_ros['radius_mean'],x_ros['area_mean'], c = y_ros['diagnosis'], alpha = 0.5, edgecolor= 'w')\n",
        "\n",
        "\n",
        "plt.show()"
      ],
      "execution_count": 16,
      "outputs": [
        {
          "output_type": "stream",
          "text": [
            "  agg_filter: a filter function, which takes a (m, n, 3) float array and a dpi value, and returns a (m, n, 3) array \n",
            "  alpha: float\n",
            "  animated: bool\n",
            "  backgroundcolor: color\n",
            "  bbox: dict with properties for `.patches.FancyBboxPatch`\n",
            "  clip_box: `matplotlib.transforms.Bbox`\n",
            "  clip_on: bool\n",
            "  clip_path: { (`.path.Path`, `.transforms.Transform`), `.patches.Patch`, None } \n",
            "  color: color\n",
            "  contains: callable\n",
            "  figure: `.Figure`\n",
            "  fontfamily: {FONTNAME, 'serif', 'sans-serif', 'cursive', 'fantasy', 'monospace'}\n",
            "  fontname: {FONTNAME, 'serif', 'sans-serif', 'cursive', 'fantasy', 'monospace'}\n",
            "  fontproperties: `.font_manager.FontProperties`\n",
            "  fontsize: {size in points, 'xx-small', 'x-small', 'small', 'medium', 'large', 'x-large', 'xx-large'}\n",
            "  fontstretch: {a numeric value in range 0-1000, 'ultra-condensed', 'extra-condensed', 'condensed', 'semi-condensed', 'normal', 'semi-expanded', 'expanded', 'extra-expanded', 'ultra-expanded'}\n",
            "  fontstyle: {'normal', 'italic', 'oblique'}\n",
            "  fontvariant: {'normal', 'small-caps'}\n",
            "  fontweight: {a numeric value in range 0-1000, 'ultralight', 'light', 'normal', 'regular', 'book', 'medium', 'roman', 'semibold', 'demibold', 'demi', 'bold', 'heavy', 'extra bold', 'black'}\n",
            "  gid: str\n",
            "  horizontalalignment: {'center', 'right', 'left'}\n",
            "  in_layout: bool\n",
            "  label: object\n",
            "  linespacing: float (multiple of font size)\n",
            "  multialignment: {'left', 'right', 'center'}\n",
            "  path_effects: `.AbstractPathEffect`\n",
            "  picker: None or bool or float or callable\n",
            "  position: (float, float)\n",
            "  rasterized: bool or None\n",
            "  rotation: {angle in degrees, 'vertical', 'horizontal'}\n",
            "  rotation_mode: {None, 'default', 'anchor'}\n",
            "  sketch_params: (scale: float, length: float, randomness: float) \n",
            "  snap: bool or None\n",
            "  text: string or object castable to string (but ``None`` becomes ``''``)\n",
            "  transform: `.Transform`\n",
            "  url: str\n",
            "  usetex: bool or None\n",
            "  verticalalignment: {'center', 'top', 'bottom', 'baseline', 'center_baseline'}\n",
            "  visible: bool\n",
            "  wrap: bool\n",
            "  x: float\n",
            "  y: float\n",
            "  zorder: float\n"
          ],
          "name": "stdout"
        },
        {
          "output_type": "display_data",
          "data": {
            "image/png": "[encoded data removed]",
            "text/plain": [
              "<Figure size 576x396 with 1 Axes>"
            ]
          },
          "metadata": {
            "tags": []
          }
        }
      ]
    },
    {
      "metadata": {
        "id": "u2QbKHZDhcaD",
        "colab_type": "code",
        "colab": {}
      },
      "cell_type": "code",
      "source": [
        ""
      ],
      "execution_count": 0,
      "outputs": []
    }
  ]
}